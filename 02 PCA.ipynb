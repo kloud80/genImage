{
 "cells": [
  {
   "cell_type": "code",
   "execution_count": null,
   "metadata": {
    "collapsed": true
   },
   "outputs": [],
   "source": [
    "import pandas as pd\n",
    "import numpy as np\n",
    "import matplotlib.pyplot as plt\n",
    "import math"
   ]
  },
  {
   "cell_type": "code",
   "execution_count": null,
   "outputs": [],
   "source": [
    "\n",
    "#임의의 분포를 만든다\n",
    "X = np.random.normal(0,1,1000)\n",
    "\n",
    "Y = X * 1 + np.random.normal(0,1,1000)\n",
    "\n",
    "Y = np.random.normal(0,1,1000)\n",
    "\n",
    "Y = X * -1 + np.random.normal(0, 1,1000)\n",
    "\n",
    "\n",
    "\n",
    "#분포 출력\n",
    "plt.scatter(X, Y)\n",
    "plt.show()"
   ],
   "metadata": {
    "collapsed": false,
    "pycharm": {
     "name": "#%%\n"
    }
   }
  },
  {
   "cell_type": "code",
   "execution_count": null,
   "outputs": [],
   "source": [
    "#개별 분산 및 공분산을 계산한다.\n",
    "공분산 = np.cov(X, Y)\n",
    "print(공분산)"
   ],
   "metadata": {
    "collapsed": false,
    "pycharm": {
     "name": "#%%\n"
    }
   }
  },
  {
   "cell_type": "code",
   "execution_count": null,
   "outputs": [],
   "source": [
    "#공분산 행렬의 의미\n",
    "균등좌표 = (np.arange(41) -20) * 0.1\n",
    "균등좌표 = np.full([41,41], 균등좌표)\n",
    "균등좌표 = np.concatenate([균등좌표[:,:, np.newaxis], 균등좌표.T[:,:, np.newaxis]], axis=2)\n",
    "\n",
    "\n",
    "#균등좌표계 출력\n",
    "plt.scatter(균등좌표[:,:,0], 균등좌표[:,:,1],s=0.5)\n",
    "plt.show()\n",
    "\n"
   ],
   "metadata": {
    "collapsed": false,
    "pycharm": {
     "name": "#%%\n"
    }
   }
  },
  {
   "cell_type": "code",
   "execution_count": null,
   "outputs": [],
   "source": [
    "#공분산 행렬로 변환\n",
    "변환좌표 = 균등좌표 @ 공분산\n",
    "\n",
    "\n",
    "\n",
    "#변환된 좌표 출력\n",
    "plt.scatter(변환좌표[:,:,0], 변환좌표[:,:,1],s=0.5)\n",
    "plt.show()\n",
    "\n",
    "\n"
   ],
   "metadata": {
    "collapsed": false,
    "pycharm": {
     "name": "#%%\n"
    }
   }
  },
  {
   "cell_type": "code",
   "execution_count": null,
   "outputs": [],
   "source": [
    "#고유벡터\n",
    "각도 = np.arange(360)\n",
    "각도 = 각도 * np.pi / 180\n",
    "각도_X = np.cos(각도)\n",
    "각도_Y = np.sin(각도)\n",
    "원래각도 = np.concatenate([각도_X[:,np.newaxis], 각도_Y[:,np.newaxis]], axis=1)\n",
    "\n",
    "plt.scatter(원래각도[:,0], 원래각도[:,1],s=0.5)\n",
    "plt.show()\n",
    "\n",
    "\n"
   ],
   "metadata": {
    "collapsed": false,
    "pycharm": {
     "name": "#%%\n"
    }
   }
  },
  {
   "cell_type": "code",
   "execution_count": null,
   "outputs": [],
   "source": [
    "#공분산행렬로 변환한다.\n",
    "행렬변환 = 원래각도 @ 공분산\n",
    "\n",
    "plt.scatter(행렬변환[:,0], 행렬변환[:,1],s=0.5)\n",
    "plt.show()\n",
    "\n",
    "\n"
   ],
   "metadata": {
    "collapsed": false,
    "pycharm": {
     "name": "#%%\n"
    }
   }
  },
  {
   "cell_type": "code",
   "execution_count": null,
   "outputs": [],
   "source": [
    "def dist(v):\n",
    "    return math.sqrt(v[0]**2 + v[1]**2)\n",
    "\n",
    "def getDegree(v):\n",
    "    v1 = v[:2]\n",
    "    v2 = v[2:]\n",
    "    # 벡터 v1, v2의 크기 구하기\n",
    "    distA = dist(v1)\n",
    "    distB = dist(v2)\n",
    "\n",
    "    # 내적 1 (x1x2 + y1y2)\n",
    "    ip = v1[0] * v2[0] + v1[1] * v2[1]\n",
    "\n",
    "    # 내적 2 (|v1|*|v2|*cos x)\n",
    "    ip2 = distA * distB\n",
    "\n",
    "    # cos x값 구하기\n",
    "    cost = ip / ip2\n",
    "\n",
    "    # x값(라디안) 구하기 (cos 역함수)\n",
    "    x = math.acos(cost)\n",
    "\n",
    "    # x값을 x도로 변환하기\n",
    "    degX = math.degrees(x)\n",
    "    return degX\n",
    "\n"
   ],
   "metadata": {
    "collapsed": false,
    "pycharm": {
     "name": "#%%\n"
    }
   }
  },
  {
   "cell_type": "code",
   "execution_count": null,
   "outputs": [],
   "source": [
    "기준벡터 = np.full([360,2], np.array([1,0]))\n",
    "기준벡터 = np.concatenate([기준벡터, 행렬변환], axis=1)\n",
    "\n",
    "변환각도 = np.apply_along_axis(getDegree, 1, 기준벡터) / 180 * np.pi\n",
    "\n",
    "변환각도 = np.cos(변환각도)\n",
    "\n",
    "각도차이 = 각도_X - 변환각도\n",
    "각도차이 = 각도차이 * 각도차이\n",
    "\n",
    "np.where(각도차이 < 0.0001)\n",
    "\n",
    "\n",
    "plt.scatter(원래각도[:,0], 원래각도[:,1],s=0.5)\n",
    "plt.scatter(원래각도[np.where(각도차이 < 0.0001),0], 원래각도[np.where(각도차이 < 0.0001),1],s=5, marker='X', color='#FF0000')\n",
    "plt.show()\n",
    "\n",
    "\n",
    "plt.scatter(행렬변환[:,0], 행렬변환[:,1],s=0.5)\n",
    "plt.scatter(행렬변환[np.where(각도차이 < 0.0001),0], 행렬변환[np.where(각도차이 < 0.0001),1],s=5, marker='X', color='#FF0000')\n",
    "plt.show()\n",
    "\n",
    "\n",
    "plt.scatter(X, Y, alpha=0.2)\n",
    "plt.scatter(행렬변환[:,0], 행렬변환[:,1],s=0.5)\n",
    "plt.scatter(행렬변환[np.where(각도차이 < 0.00001),0], 행렬변환[np.where(각도차이 < 0.00001),1],s=20, marker='X', color='#FF0000')\n",
    "plt.show()\n"
   ],
   "metadata": {
    "collapsed": false,
    "pycharm": {
     "name": "#%%\n"
    }
   }
  },
  {
   "cell_type": "code",
   "execution_count": null,
   "outputs": [],
   "source": [
    "\n",
    "\n",
    "\"\"\"===============================================================================\n",
    "주성분 분석\n",
    "===============================================================================\"\"\"\n",
    "\n",
    "from sklearn.decomposition import PCA\n",
    "data = np.concatenate([X[:,np.newaxis],Y[:,np.newaxis]], axis=1)\n",
    "\n",
    "pca = PCA(n_components = 2) # feature 변수 개수가 2개\n",
    "pca.fit(data)\n",
    "\n",
    "pca.components_\n",
    "pca.explained_variance_ratio_\n",
    "\n",
    "predict = pca.transform(data)\n",
    "pre2 = data @ pca.components_.T\n",
    "\n",
    "\n",
    "plt.scatter(predict[:,0], predict[:,1])\n",
    "plt.show()\n"
   ],
   "metadata": {
    "collapsed": false,
    "pycharm": {
     "name": "#%%\n"
    }
   }
  }
 ],
 "metadata": {
  "kernelspec": {
   "display_name": "Python 3",
   "language": "python",
   "name": "python3"
  },
  "language_info": {
   "codemirror_mode": {
    "name": "ipython",
    "version": 2
   },
   "file_extension": ".py",
   "mimetype": "text/x-python",
   "name": "python",
   "nbconvert_exporter": "python",
   "pygments_lexer": "ipython2",
   "version": "2.7.6"
  }
 },
 "nbformat": 4,
 "nbformat_minor": 0
}